{
 "cells": [
  {
   "cell_type": "code",
   "execution_count": 28,
   "metadata": {},
   "outputs": [],
   "source": [
    "import csv\n",
    "import cv2\n",
    "import numpy as np\n",
    "from keras.models import Sequential\n",
    "from keras.layers import Lambda\n",
    "from keras.layers.core import Dense, Activation, Flatten, Dropout\n",
    "from keras.layers.convolutional import Convolution2D\n",
    "from keras.layers.pooling import MaxPooling2D\n",
    "import matplotlib.pyplot as plt\n",
    "import matplotlib.image as mpimg\n",
    "\n",
    "lines=[]\n",
    "with open('driving_log.csv') as csvfile:\n",
    "    reader=csv.reader(csvfile)\n",
    "    for line in  reader:\n",
    "        lines.append(line)\n",
    "images=[]\n",
    "measurements=[]\n",
    "i=0;\n",
    "paths=[]\n",
    "for line in lines[1:]:\n",
    "\n",
    "    measurement=float(line[3])\n",
    "    for col in range(0,3):  \n",
    "        filename=line[col].split('/')[-1]\n",
    "#         image=mpimg.imread(\"IMG/\"+filename)\n",
    "        paths.append(\"IMG/\"+filename)  \n",
    "        if(col==1):\n",
    "            measurements.append(measurement+0.25)\n",
    "        elif(col==2):\n",
    "            measurements.append(measurement-0.25)\n",
    "        else:\n",
    "            measurements.append(measurement)\n",
    "\n",
    "# augmentated_images,augmented_measurements=[],[]\n",
    "\n",
    "# for path,measurement in zip(paths,measurements):\n",
    "#     augmentated_images_path.append(image)\n",
    "#     augmented_measurements.append(measurement)\n",
    "#     augmentated_images.append(cv2.flip(image,1))\n",
    "#     augmented_measurements.append(measurement*-1.0)\n",
    "# X_augment=np.array(augmentated_images)\n",
    "# y_augment=np.array(augmented_measurements)    \n",
    "# X_train=np.array(images)\n",
    "# y_train=np.array(measurements)  \n",
    "\n",
    "# X_train=np.concatenate([X_train,X_augment])\n",
    "# y_train=np.concatenate([y_train,y_augment])\n",
    "\n",
    "\n",
    "# print(X_train.shape)\n",
    "\n",
    "\n",
    "# model=Sequential()\n",
    "# model.add(Lambda(lambda x: (x / 255.0) - 0.5, input_shape=(160,320,3)))\n",
    "# model.add(Convolution2D(6, 5, 5))\n",
    "# model.add(MaxPooling2D())\n",
    "# model.add(Activation('relu'))\n",
    "# model.add(Convolution2D(6, 5, 5))\n",
    "# model.add(Activation('relu'))\n",
    "# model.add(MaxPooling2D())\n",
    "# model.add(Flatten())\n",
    "# model.add(Dense(120))\n",
    "# model.add(Dense(84))\n",
    "# model.add(Dense(1))\n",
    "# model.compile(loss='mse',optimizer='adam')\n",
    "# model.fit(X_train,y_train,validation_split=0.2,shuffle=True,nb_epoch=1)\n",
    "# model.save('model.h5')\n",
    "\n"
   ]
  },
  {
   "cell_type": "code",
   "execution_count": 30,
   "metadata": {},
   "outputs": [
    {
     "name": "stdout",
     "output_type": "stream",
     "text": [
      "24108\n",
      "24108\n"
     ]
    }
   ],
   "source": [
    "\n",
    "print(len(paths))\n",
    "print(len(measurements))"
   ]
  },
  {
   "cell_type": "code",
   "execution_count": null,
   "metadata": {},
   "outputs": [],
   "source": []
  }
 ],
 "metadata": {
  "kernelspec": {
   "display_name": "Python [conda env:carnd-term1]",
   "language": "python",
   "name": "conda-env-carnd-term1-py"
  },
  "language_info": {
   "codemirror_mode": {
    "name": "ipython",
    "version": 3
   },
   "file_extension": ".py",
   "mimetype": "text/x-python",
   "name": "python",
   "nbconvert_exporter": "python",
   "pygments_lexer": "ipython3",
   "version": "3.5.2"
  },
  "widgets": {
   "state": {},
   "version": "1.1.2"
  }
 },
 "nbformat": 4,
 "nbformat_minor": 2
}
